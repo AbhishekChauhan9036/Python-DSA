{
 "cells": [
  {
   "cell_type": "markdown",
   "metadata": {},
   "source": [
    "<h2>Exercise: Hash Table: New York City Weather Analysis</h2>"
   ]
  },
  {
   "cell_type": "markdown",
   "metadata": {},
   "source": [
    "\n",
    "**(1)** nyc_weather.csv contains new york city weather for first few days in the month of January. Write a program that can answer following, \n",
    "\n",
    "      (a) What was the average temperature in first week of Jan\n",
    "\n",
    "      (b) What was the maximum temperature in first 10 days of Jan\n",
    "\n",
    "      Figure out data structure that is best for this problem"
   ]
  },
  {
   "cell_type": "code",
   "execution_count": 11,
   "metadata": {},
   "outputs": [
    {
     "name": "stdout",
     "output_type": "stream",
     "text": [
      "Invalid temperature.Ignore the row\n"
     ]
    }
   ],
   "source": [
    "arr = []\n",
    "\n",
    "with open(\"nyc_weather.csv\",\"r\") as f:\n",
    "    for line in f:\n",
    "        tokens = line.split(',')\n",
    "        try:\n",
    "            temperature = int(tokens[1])\n",
    "            arr.append(temperature)\n",
    "        except:\n",
    "            print(\"Invalid temperature.Ignore the row\")"
   ]
  },
  {
   "cell_type": "code",
   "execution_count": 12,
   "metadata": {
    "scrolled": true
   },
   "outputs": [
    {
     "data": {
      "text/plain": [
       "[27, 31, 23, 34, 37, 38, 29, 30, 35, 30]"
      ]
     },
     "execution_count": 12,
     "metadata": {},
     "output_type": "execute_result"
    }
   ],
   "source": [
    "arr"
   ]
  },
  {
   "cell_type": "markdown",
   "metadata": {},
   "source": [
    "**What was the average temperature in first week of Jan**"
   ]
  },
  {
   "cell_type": "code",
   "execution_count": 13,
   "metadata": {},
   "outputs": [
    {
     "data": {
      "text/plain": [
       "31.285714285714285"
      ]
     },
     "execution_count": 13,
     "metadata": {},
     "output_type": "execute_result"
    }
   ],
   "source": [
    "sum(arr[0:7])/len(arr[0:7])"
   ]
  },
  {
   "cell_type": "markdown",
   "metadata": {},
   "source": [
    "**What was the maximum temperature in first 10 days of Jan**"
   ]
  },
  {
   "cell_type": "code",
   "execution_count": 14,
   "metadata": {},
   "outputs": [
    {
     "data": {
      "text/plain": [
       "[27, 31, 23, 34, 37, 38, 29, 30, 35, 30]"
      ]
     },
     "execution_count": 14,
     "metadata": {},
     "output_type": "execute_result"
    }
   ],
   "source": [
    "arr[0:10]"
   ]
  },
  {
   "cell_type": "code",
   "execution_count": 15,
   "metadata": {
    "scrolled": true
   },
   "outputs": [
    {
     "data": {
      "text/plain": [
       "38"
      ]
     },
     "execution_count": 15,
     "metadata": {},
     "output_type": "execute_result"
    }
   ],
   "source": [
    "max(arr[0:10])"
   ]
  },
  {
   "cell_type": "markdown",
   "metadata": {},
   "source": [
    "**The best data structure to use here was a list because all we wanted was access of temperature elements**"
   ]
  },
  {
   "cell_type": "markdown",
   "metadata": {},
   "source": [
    "\n",
    "**(2)** nyc_weather.csv contains new york city weather for first few days in the month of January. Write a program that can answer following, \n",
    "\n",
    "      (a) What was the temperature on Jan 9?\n",
    "\n",
    "      (b) What was the temperature on Jan 4?\n",
    "\n",
    "      Figure out data structure that is best for this problem"
   ]
  },
  {
   "cell_type": "code",
   "execution_count": 17,
   "metadata": {},
   "outputs": [
    {
     "name": "stdout",
     "output_type": "stream",
     "text": [
      "Invalid temperature.Ignore the row\n"
     ]
    }
   ],
   "source": [
    "weather_dict = {}\n",
    "\n",
    "with open(\"nyc_weather.csv\",\"r\") as f:\n",
    "    for line in f:\n",
    "        tokens = line.split(',')\n",
    "        day = tokens[0]\n",
    "        try:\n",
    "            temperature = int(tokens[1])\n",
    "            weather_dict[day] = temperature\n",
    "        except:\n",
    "            print(\"Invalid temperature.Ignore the row\")"
   ]
  },
  {
   "cell_type": "code",
   "execution_count": 18,
   "metadata": {},
   "outputs": [
    {
     "data": {
      "text/plain": [
       "{'Jan 1': 27,\n",
       " 'Jan 2': 31,\n",
       " 'Jan 3': 23,\n",
       " 'Jan 4': 34,\n",
       " 'Jan 5': 37,\n",
       " 'Jan 6': 38,\n",
       " 'Jan 7': 29,\n",
       " 'Jan 8': 30,\n",
       " 'Jan 9': 35,\n",
       " 'Jan 10': 30}"
      ]
     },
     "execution_count": 18,
     "metadata": {},
     "output_type": "execute_result"
    }
   ],
   "source": [
    "weather_dict"
   ]
  },
  {
   "cell_type": "markdown",
   "metadata": {},
   "source": [
    "**What was the temperature on Jan 9**"
   ]
  },
  {
   "cell_type": "code",
   "execution_count": 19,
   "metadata": {},
   "outputs": [
    {
     "data": {
      "text/plain": [
       "35"
      ]
     },
     "execution_count": 19,
     "metadata": {},
     "output_type": "execute_result"
    }
   ],
   "source": [
    "weather_dict['Jan 9']"
   ]
  },
  {
   "cell_type": "markdown",
   "metadata": {},
   "source": [
    "**What was the temperature on Jan 4**"
   ]
  },
  {
   "cell_type": "code",
   "execution_count": 20,
   "metadata": {
    "scrolled": true
   },
   "outputs": [
    {
     "data": {
      "text/plain": [
       "34"
      ]
     },
     "execution_count": 20,
     "metadata": {},
     "output_type": "execute_result"
    }
   ],
   "source": [
    "weather_dict['Jan 4']"
   ]
  },
  {
   "cell_type": "markdown",
   "metadata": {},
   "source": [
    "**The best data structure to use here was a dictionary (internally a hash table) because we wanted to know temperature for specific day, requiring key, value pair access where you can look up an element by day using O(1) complexity**"
   ]
  }
 ],
 "metadata": {
  "kernelspec": {
   "display_name": "Python 3",
   "language": "python",
   "name": "python3"
  },
  "language_info": {
   "codemirror_mode": {
    "name": "ipython",
    "version": 3
   },
   "file_extension": ".py",
   "mimetype": "text/x-python",
   "name": "python",
   "nbconvert_exporter": "python",
   "pygments_lexer": "ipython3",
   "version": "3.7.3"
  }
 },
 "nbformat": 4,
 "nbformat_minor": 2
}
